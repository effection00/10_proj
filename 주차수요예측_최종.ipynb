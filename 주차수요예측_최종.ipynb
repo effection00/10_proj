{
  "nbformat": 4,
  "nbformat_minor": 0,
  "metadata": {
    "colab": {
      "name": "주차수요예측 최종",
      "provenance": [],
      "collapsed_sections": [],
      "authorship_tag": "ABX9TyMqTlJ82GllT9bBz89dxOEp",
      "include_colab_link": true
    },
    "kernelspec": {
      "name": "python3",
      "display_name": "Python 3"
    },
    "language_info": {
      "name": "python"
    }
  },
  "cells": [
    {
      "cell_type": "markdown",
      "metadata": {
        "id": "view-in-github",
        "colab_type": "text"
      },
      "source": [
        "<a href=\"https://colab.research.google.com/github/effection00/projects/blob/main/%EC%A3%BC%EC%B0%A8%EC%88%98%EC%9A%94%EC%98%88%EC%B8%A1_%EC%B5%9C%EC%A2%85.ipynb\" target=\"_parent\"><img src=\"https://colab.research.google.com/assets/colab-badge.svg\" alt=\"Open In Colab\"/></a>"
      ]
    },
    {
      "cell_type": "code",
      "metadata": {
        "colab": {
          "base_uri": "https://localhost:8080/"
        },
        "id": "QIVFUZ5IPSbw",
        "outputId": "f611e5c6-bf1c-462c-d09c-71bcc24ff699"
      },
      "source": [
        "!pip install category_encoders"
      ],
      "execution_count": 335,
      "outputs": [
        {
          "output_type": "stream",
          "name": "stdout",
          "text": [
            "Requirement already satisfied: category_encoders in /usr/local/lib/python3.7/dist-packages (2.3.0)\n",
            "Requirement already satisfied: scipy>=1.0.0 in /usr/local/lib/python3.7/dist-packages (from category_encoders) (1.4.1)\n",
            "Requirement already satisfied: scikit-learn>=0.20.0 in /usr/local/lib/python3.7/dist-packages (from category_encoders) (0.22.2.post1)\n",
            "Requirement already satisfied: statsmodels>=0.9.0 in /usr/local/lib/python3.7/dist-packages (from category_encoders) (0.10.2)\n",
            "Requirement already satisfied: patsy>=0.5.1 in /usr/local/lib/python3.7/dist-packages (from category_encoders) (0.5.2)\n",
            "Requirement already satisfied: pandas>=0.21.1 in /usr/local/lib/python3.7/dist-packages (from category_encoders) (1.1.5)\n",
            "Requirement already satisfied: numpy>=1.14.0 in /usr/local/lib/python3.7/dist-packages (from category_encoders) (1.19.5)\n",
            "Requirement already satisfied: pytz>=2017.2 in /usr/local/lib/python3.7/dist-packages (from pandas>=0.21.1->category_encoders) (2018.9)\n",
            "Requirement already satisfied: python-dateutil>=2.7.3 in /usr/local/lib/python3.7/dist-packages (from pandas>=0.21.1->category_encoders) (2.8.2)\n",
            "Requirement already satisfied: six in /usr/local/lib/python3.7/dist-packages (from patsy>=0.5.1->category_encoders) (1.15.0)\n",
            "Requirement already satisfied: joblib>=0.11 in /usr/local/lib/python3.7/dist-packages (from scikit-learn>=0.20.0->category_encoders) (1.0.1)\n"
          ]
        }
      ]
    },
    {
      "cell_type": "code",
      "metadata": {
        "colab": {
          "base_uri": "https://localhost:8080/"
        },
        "id": "Rlu2WYDSJdt2",
        "outputId": "350787d8-e52f-4564-a82a-1da7c19becf4"
      },
      "source": [
        "from google.colab import drive\n",
        "drive.mount('/content/drive')"
      ],
      "execution_count": 336,
      "outputs": [
        {
          "output_type": "stream",
          "name": "stdout",
          "text": [
            "Drive already mounted at /content/drive; to attempt to forcibly remount, call drive.mount(\"/content/drive\", force_remount=True).\n"
          ]
        }
      ]
    },
    {
      "cell_type": "code",
      "metadata": {
        "id": "QkaXsbu8JmB6"
      },
      "source": [
        "import pandas as pd\n",
        "\n",
        "df = pd.read_csv(\"/content/drive/MyDrive/train.csv\")\n",
        "age_gender = pd.read_csv(\"/content/drive/MyDrive/age_gender_info.csv\")\n",
        "test = pd.read_csv(\"/content/drive/MyDrive/test.csv\")\n"
      ],
      "execution_count": 337,
      "outputs": []
    },
    {
      "cell_type": "code",
      "metadata": {
        "colab": {
          "base_uri": "https://localhost:8080/"
        },
        "id": "1SiKRMXm6San",
        "outputId": "fd100ac0-df68-4b06-b013-2f835128378f"
      },
      "source": [
        "df.shape"
      ],
      "execution_count": 338,
      "outputs": [
        {
          "output_type": "execute_result",
          "data": {
            "text/plain": [
              "(2952, 15)"
            ]
          },
          "metadata": {},
          "execution_count": 338
        }
      ]
    },
    {
      "cell_type": "code",
      "metadata": {
        "id": "R4KM7abjJpul"
      },
      "source": [
        "train = df"
      ],
      "execution_count": 339,
      "outputs": []
    },
    {
      "cell_type": "markdown",
      "metadata": {
        "id": "5DrxAs1w5IMw"
      },
      "source": [
        "# 전처리 "
      ]
    },
    {
      "cell_type": "code",
      "metadata": {
        "id": "jScB_Ck7Iptd"
      },
      "source": [
        "# 데이터 중복제거\n",
        "train.drop_duplicates(inplace=True)"
      ],
      "execution_count": 340,
      "outputs": []
    },
    {
      "cell_type": "code",
      "metadata": {
        "colab": {
          "base_uri": "https://localhost:8080/"
        },
        "id": "vF9rXUoe65uJ",
        "outputId": "62acf9ac-623f-4f85-870c-d0ed1901fe6b"
      },
      "source": [
        "train.shape"
      ],
      "execution_count": 341,
      "outputs": [
        {
          "output_type": "execute_result",
          "data": {
            "text/plain": [
              "(2632, 15)"
            ]
          },
          "metadata": {},
          "execution_count": 341
        }
      ]
    },
    {
      "cell_type": "markdown",
      "metadata": {
        "id": "vML446YS7SIT"
      },
      "source": [
        "## 특이값 처리"
      ]
    },
    {
      "cell_type": "code",
      "metadata": {
        "colab": {
          "base_uri": "https://localhost:8080/",
          "height": 633
        },
        "id": "MWYs3XBe9OuI",
        "outputId": "3e55ceb2-4326-4d43-843d-a48d595e12b4"
      },
      "source": [
        "train[train['임대보증금']=='-']"
      ],
      "execution_count": 342,
      "outputs": [
        {
          "output_type": "execute_result",
          "data": {
            "text/html": [
              "<div>\n",
              "<style scoped>\n",
              "    .dataframe tbody tr th:only-of-type {\n",
              "        vertical-align: middle;\n",
              "    }\n",
              "\n",
              "    .dataframe tbody tr th {\n",
              "        vertical-align: top;\n",
              "    }\n",
              "\n",
              "    .dataframe thead th {\n",
              "        text-align: right;\n",
              "    }\n",
              "</style>\n",
              "<table border=\"1\" class=\"dataframe\">\n",
              "  <thead>\n",
              "    <tr style=\"text-align: right;\">\n",
              "      <th></th>\n",
              "      <th>단지코드</th>\n",
              "      <th>총세대수</th>\n",
              "      <th>임대건물구분</th>\n",
              "      <th>지역</th>\n",
              "      <th>공급유형</th>\n",
              "      <th>전용면적</th>\n",
              "      <th>전용면적별세대수</th>\n",
              "      <th>공가수</th>\n",
              "      <th>자격유형</th>\n",
              "      <th>임대보증금</th>\n",
              "      <th>임대료</th>\n",
              "      <th>도보 10분거리 내 지하철역 수(환승노선 수 반영)</th>\n",
              "      <th>도보 10분거리 내 버스정류장 수</th>\n",
              "      <th>단지내주차면수</th>\n",
              "      <th>등록차량수</th>\n",
              "    </tr>\n",
              "  </thead>\n",
              "  <tbody>\n",
              "    <tr>\n",
              "      <th>2547</th>\n",
              "      <td>C1326</td>\n",
              "      <td>1934</td>\n",
              "      <td>아파트</td>\n",
              "      <td>부산광역시</td>\n",
              "      <td>국민임대</td>\n",
              "      <td>24.72</td>\n",
              "      <td>472</td>\n",
              "      <td>43.0</td>\n",
              "      <td>H</td>\n",
              "      <td>-</td>\n",
              "      <td>-</td>\n",
              "      <td>0.0</td>\n",
              "      <td>4.0</td>\n",
              "      <td>1670.0</td>\n",
              "      <td>1153.0</td>\n",
              "    </tr>\n",
              "    <tr>\n",
              "      <th>2548</th>\n",
              "      <td>C1326</td>\n",
              "      <td>1934</td>\n",
              "      <td>아파트</td>\n",
              "      <td>부산광역시</td>\n",
              "      <td>국민임대</td>\n",
              "      <td>24.79</td>\n",
              "      <td>104</td>\n",
              "      <td>43.0</td>\n",
              "      <td>H</td>\n",
              "      <td>-</td>\n",
              "      <td>-</td>\n",
              "      <td>0.0</td>\n",
              "      <td>4.0</td>\n",
              "      <td>1670.0</td>\n",
              "      <td>1153.0</td>\n",
              "    </tr>\n",
              "    <tr>\n",
              "      <th>2549</th>\n",
              "      <td>C1326</td>\n",
              "      <td>1934</td>\n",
              "      <td>아파트</td>\n",
              "      <td>부산광역시</td>\n",
              "      <td>국민임대</td>\n",
              "      <td>26.83</td>\n",
              "      <td>590</td>\n",
              "      <td>43.0</td>\n",
              "      <td>H</td>\n",
              "      <td>-</td>\n",
              "      <td>-</td>\n",
              "      <td>0.0</td>\n",
              "      <td>4.0</td>\n",
              "      <td>1670.0</td>\n",
              "      <td>1153.0</td>\n",
              "    </tr>\n",
              "    <tr>\n",
              "      <th>2550</th>\n",
              "      <td>C1326</td>\n",
              "      <td>1934</td>\n",
              "      <td>아파트</td>\n",
              "      <td>부산광역시</td>\n",
              "      <td>국민임대</td>\n",
              "      <td>37.70</td>\n",
              "      <td>464</td>\n",
              "      <td>43.0</td>\n",
              "      <td>H</td>\n",
              "      <td>-</td>\n",
              "      <td>-</td>\n",
              "      <td>0.0</td>\n",
              "      <td>4.0</td>\n",
              "      <td>1670.0</td>\n",
              "      <td>1153.0</td>\n",
              "    </tr>\n",
              "    <tr>\n",
              "      <th>2551</th>\n",
              "      <td>C1326</td>\n",
              "      <td>1934</td>\n",
              "      <td>아파트</td>\n",
              "      <td>부산광역시</td>\n",
              "      <td>국민임대</td>\n",
              "      <td>46.94</td>\n",
              "      <td>304</td>\n",
              "      <td>43.0</td>\n",
              "      <td>H</td>\n",
              "      <td>-</td>\n",
              "      <td>-</td>\n",
              "      <td>0.0</td>\n",
              "      <td>4.0</td>\n",
              "      <td>1670.0</td>\n",
              "      <td>1153.0</td>\n",
              "    </tr>\n",
              "    <tr>\n",
              "      <th>2680</th>\n",
              "      <td>C1786</td>\n",
              "      <td>480</td>\n",
              "      <td>아파트</td>\n",
              "      <td>강원도</td>\n",
              "      <td>행복주택</td>\n",
              "      <td>16.91</td>\n",
              "      <td>156</td>\n",
              "      <td>25.0</td>\n",
              "      <td>K</td>\n",
              "      <td>-</td>\n",
              "      <td>-</td>\n",
              "      <td>0.0</td>\n",
              "      <td>3.0</td>\n",
              "      <td>338.0</td>\n",
              "      <td>345.0</td>\n",
              "    </tr>\n",
              "    <tr>\n",
              "      <th>2681</th>\n",
              "      <td>C1786</td>\n",
              "      <td>480</td>\n",
              "      <td>아파트</td>\n",
              "      <td>강원도</td>\n",
              "      <td>행복주택</td>\n",
              "      <td>26.90</td>\n",
              "      <td>136</td>\n",
              "      <td>25.0</td>\n",
              "      <td>K</td>\n",
              "      <td>-</td>\n",
              "      <td>-</td>\n",
              "      <td>0.0</td>\n",
              "      <td>3.0</td>\n",
              "      <td>338.0</td>\n",
              "      <td>345.0</td>\n",
              "    </tr>\n",
              "    <tr>\n",
              "      <th>2682</th>\n",
              "      <td>C1786</td>\n",
              "      <td>480</td>\n",
              "      <td>아파트</td>\n",
              "      <td>강원도</td>\n",
              "      <td>행복주택</td>\n",
              "      <td>26.90</td>\n",
              "      <td>72</td>\n",
              "      <td>25.0</td>\n",
              "      <td>K</td>\n",
              "      <td>-</td>\n",
              "      <td>-</td>\n",
              "      <td>0.0</td>\n",
              "      <td>3.0</td>\n",
              "      <td>338.0</td>\n",
              "      <td>345.0</td>\n",
              "    </tr>\n",
              "    <tr>\n",
              "      <th>2683</th>\n",
              "      <td>C1786</td>\n",
              "      <td>480</td>\n",
              "      <td>아파트</td>\n",
              "      <td>강원도</td>\n",
              "      <td>행복주택</td>\n",
              "      <td>26.90</td>\n",
              "      <td>24</td>\n",
              "      <td>25.0</td>\n",
              "      <td>K</td>\n",
              "      <td>-</td>\n",
              "      <td>-</td>\n",
              "      <td>0.0</td>\n",
              "      <td>3.0</td>\n",
              "      <td>338.0</td>\n",
              "      <td>345.0</td>\n",
              "    </tr>\n",
              "    <tr>\n",
              "      <th>2906</th>\n",
              "      <td>C2186</td>\n",
              "      <td>924</td>\n",
              "      <td>아파트</td>\n",
              "      <td>대구광역시</td>\n",
              "      <td>국민임대</td>\n",
              "      <td>29.17</td>\n",
              "      <td>238</td>\n",
              "      <td>0.0</td>\n",
              "      <td>H</td>\n",
              "      <td>-</td>\n",
              "      <td>-</td>\n",
              "      <td>0.0</td>\n",
              "      <td>8.0</td>\n",
              "      <td>664.0</td>\n",
              "      <td>744.0</td>\n",
              "    </tr>\n",
              "    <tr>\n",
              "      <th>2907</th>\n",
              "      <td>C2186</td>\n",
              "      <td>924</td>\n",
              "      <td>아파트</td>\n",
              "      <td>대구광역시</td>\n",
              "      <td>국민임대</td>\n",
              "      <td>29.34</td>\n",
              "      <td>38</td>\n",
              "      <td>0.0</td>\n",
              "      <td>H</td>\n",
              "      <td>-</td>\n",
              "      <td>-</td>\n",
              "      <td>0.0</td>\n",
              "      <td>8.0</td>\n",
              "      <td>664.0</td>\n",
              "      <td>744.0</td>\n",
              "    </tr>\n",
              "    <tr>\n",
              "      <th>2908</th>\n",
              "      <td>C2186</td>\n",
              "      <td>924</td>\n",
              "      <td>아파트</td>\n",
              "      <td>대구광역시</td>\n",
              "      <td>국민임대</td>\n",
              "      <td>37.43</td>\n",
              "      <td>220</td>\n",
              "      <td>0.0</td>\n",
              "      <td>H</td>\n",
              "      <td>-</td>\n",
              "      <td>-</td>\n",
              "      <td>0.0</td>\n",
              "      <td>8.0</td>\n",
              "      <td>664.0</td>\n",
              "      <td>744.0</td>\n",
              "    </tr>\n",
              "  </tbody>\n",
              "</table>\n",
              "</div>"
            ],
            "text/plain": [
              "       단지코드  총세대수 임대건물구분  ... 도보 10분거리 내 버스정류장 수 단지내주차면수   등록차량수\n",
              "2547  C1326  1934    아파트  ...                4.0  1670.0  1153.0\n",
              "2548  C1326  1934    아파트  ...                4.0  1670.0  1153.0\n",
              "2549  C1326  1934    아파트  ...                4.0  1670.0  1153.0\n",
              "2550  C1326  1934    아파트  ...                4.0  1670.0  1153.0\n",
              "2551  C1326  1934    아파트  ...                4.0  1670.0  1153.0\n",
              "2680  C1786   480    아파트  ...                3.0   338.0   345.0\n",
              "2681  C1786   480    아파트  ...                3.0   338.0   345.0\n",
              "2682  C1786   480    아파트  ...                3.0   338.0   345.0\n",
              "2683  C1786   480    아파트  ...                3.0   338.0   345.0\n",
              "2906  C2186   924    아파트  ...                8.0   664.0   744.0\n",
              "2907  C2186   924    아파트  ...                8.0   664.0   744.0\n",
              "2908  C2186   924    아파트  ...                8.0   664.0   744.0\n",
              "\n",
              "[12 rows x 15 columns]"
            ]
          },
          "metadata": {},
          "execution_count": 342
        }
      ]
    },
    {
      "cell_type": "code",
      "metadata": {
        "id": "g3NfpOUZ8WhH"
      },
      "source": [
        "# 특이문자 \"ㅡ\" 존재 => 0으로 대체\n",
        "train.loc[train['임대보증금']=='-','임대보증금'] = None\n",
        "train['임대보증금']=pd.to_numeric(train['임대보증금'])"
      ],
      "execution_count": 343,
      "outputs": []
    },
    {
      "cell_type": "code",
      "metadata": {
        "id": "VOlHBe5sEHzz"
      },
      "source": [
        "test.loc[test['임대보증금']=='-','임대보증금'] = None\n",
        "test['임대보증금']=pd.to_numeric(test['임대보증금'])"
      ],
      "execution_count": 344,
      "outputs": []
    },
    {
      "cell_type": "code",
      "metadata": {
        "id": "pZd7ELFpXn29"
      },
      "source": [
        "# 임대보증금과 동일하게 처리\n",
        "train.loc[train['임대료']=='-','임대료'] = None\n",
        "train['임대료']=pd.to_numeric(train['임대료'])"
      ],
      "execution_count": 345,
      "outputs": []
    },
    {
      "cell_type": "code",
      "metadata": {
        "id": "be6z-V0UELD-"
      },
      "source": [
        "test.loc[test['임대료']=='-','임대료'] = None\n",
        "test['임대료']=pd.to_numeric(test['임대료'])"
      ],
      "execution_count": 346,
      "outputs": []
    },
    {
      "cell_type": "markdown",
      "metadata": {
        "id": "SUr98ZjSBmbC"
      },
      "source": [
        "## 결측값 처리"
      ]
    },
    {
      "cell_type": "code",
      "metadata": {
        "colab": {
          "base_uri": "https://localhost:8080/"
        },
        "id": "aMeCyq8NHyCa",
        "outputId": "5823dc91-178a-4759-c893-a013e04a8466"
      },
      "source": [
        "df.isnull().sum()"
      ],
      "execution_count": 347,
      "outputs": [
        {
          "output_type": "execute_result",
          "data": {
            "text/plain": [
              "단지코드                              0\n",
              "총세대수                              0\n",
              "임대건물구분                            0\n",
              "지역                                0\n",
              "공급유형                              0\n",
              "전용면적                              0\n",
              "전용면적별세대수                          0\n",
              "공가수                               0\n",
              "자격유형                              0\n",
              "임대보증금                           304\n",
              "임대료                             313\n",
              "도보 10분거리 내 지하철역 수(환승노선 수 반영)    155\n",
              "도보 10분거리 내 버스정류장 수                4\n",
              "단지내주차면수                           0\n",
              "등록차량수                             0\n",
              "dtype: int64"
            ]
          },
          "metadata": {},
          "execution_count": 347
        }
      ]
    },
    {
      "cell_type": "code",
      "metadata": {
        "colab": {
          "base_uri": "https://localhost:8080/"
        },
        "id": "vdfgpITgL4Zo",
        "outputId": "de6816c1-6683-4baf-f8a3-5047371e0c9b"
      },
      "source": [
        "# 그래프 한글처리\n",
        "%matplotlib inline\n",
        "import matplotlib.pyplot as plt\n",
        "!sudo apt-get install -y fonts-nanum\n",
        "!sudo fc-cache -fv\n",
        "!rm ~/.cache/matplotlib -rf\n",
        "\n",
        "plt.rc('font', family='NanumBarunGothic') "
      ],
      "execution_count": 348,
      "outputs": [
        {
          "output_type": "stream",
          "name": "stdout",
          "text": [
            "Reading package lists... Done\n",
            "Building dependency tree       \n",
            "Reading state information... Done\n",
            "fonts-nanum is already the newest version (20170925-1).\n",
            "The following package was automatically installed and is no longer required:\n",
            "  libnvidia-common-460\n",
            "Use 'sudo apt autoremove' to remove it.\n",
            "0 upgraded, 0 newly installed, 0 to remove and 37 not upgraded.\n",
            "/usr/share/fonts: caching, new cache contents: 0 fonts, 1 dirs\n",
            "/usr/share/fonts/truetype: caching, new cache contents: 0 fonts, 3 dirs\n",
            "/usr/share/fonts/truetype/humor-sans: caching, new cache contents: 1 fonts, 0 dirs\n",
            "/usr/share/fonts/truetype/liberation: caching, new cache contents: 16 fonts, 0 dirs\n",
            "/usr/share/fonts/truetype/nanum: caching, new cache contents: 10 fonts, 0 dirs\n",
            "/usr/local/share/fonts: caching, new cache contents: 0 fonts, 0 dirs\n",
            "/root/.local/share/fonts: skipping, no such directory\n",
            "/root/.fonts: skipping, no such directory\n",
            "/var/cache/fontconfig: cleaning cache directory\n",
            "/root/.cache/fontconfig: not cleaning non-existent cache directory\n",
            "/root/.fontconfig: not cleaning non-existent cache directory\n",
            "fc-cache: succeeded\n"
          ]
        }
      ]
    },
    {
      "cell_type": "code",
      "metadata": {
        "id": "rsKtrCYtLZyQ"
      },
      "source": [
        "import matplotlib.pyplot\n",
        "import matplotlib as mpl\n",
        "\n",
        "mpl.pyplot.rc('font', family='NanumGothic')\n",
        "mpl.rcParams['axes.unicode_minus']=False"
      ],
      "execution_count": 349,
      "outputs": []
    },
    {
      "cell_type": "code",
      "metadata": {
        "colab": {
          "base_uri": "https://localhost:8080/",
          "height": 481
        },
        "id": "SzCHxm92-ql9",
        "outputId": "cad02b13-f91d-4f94-ecc2-cb0c199415d4"
      },
      "source": [
        "import seaborn as sns\n",
        "sns.heatmap(train.corr()) \n",
        "\n",
        "# 전용면적은 임대료와 임대보증금과 연관 관계가 깊다 -> 전용면접에 따라 결측치 처리\n",
        "# 타겟값은 단지내 주차면수와 큰 관련이 있다는 것을 알 수 있음"
      ],
      "execution_count": 350,
      "outputs": [
        {
          "output_type": "execute_result",
          "data": {
            "text/plain": [
              "<matplotlib.axes._subplots.AxesSubplot at 0x7fe052a85e50>"
            ]
          },
          "metadata": {},
          "execution_count": 350
        },
        {
          "output_type": "display_data",
          "data": {
            "image/png": "[encoded data removed]",
            "text/plain": [
              "<Figure size 432x288 with 2 Axes>"
            ]
          },
          "metadata": {
            "needs_background": "light"
          }
        }
      ]
    },
    {
      "cell_type": "code",
      "metadata": {
        "colab": {
          "base_uri": "https://localhost:8080/"
        },
        "id": "wFSBqS5UGDT-",
        "outputId": "7722662b-4956-489a-e205-aeda35d4679a"
      },
      "source": [
        "train['전용면적'].describe()"
      ],
      "execution_count": 351,
      "outputs": [
        {
          "output_type": "execute_result",
          "data": {
            "text/plain": [
              "count    2632.000000\n",
              "mean       46.091303\n",
              "std        32.559242\n",
              "min        12.620000\n",
              "25%        36.500000\n",
              "50%        46.405000\n",
              "75%        51.850000\n",
              "max       583.400000\n",
              "Name: 전용면적, dtype: float64"
            ]
          },
          "metadata": {},
          "execution_count": 351
        }
      ]
    },
    {
      "cell_type": "markdown",
      "metadata": {
        "id": "5xl2nADd5C2u"
      },
      "source": [
        "## 임대보증금, 임대료 결측치\n",
        "### 전용면적 범주화 후 결측치 채우기 "
      ]
    },
    {
      "cell_type": "code",
      "metadata": {
        "id": "g_OWIKZLFkTD"
      },
      "source": [
        "bins = [0,12,36,46,51,584]\n",
        "label = [0,1,2,3,4]\n",
        "train['전용면적범주화'] = pd.cut(train['전용면적'],bins,right=False , labels= label)\n",
        "\n",
        "bins = [0,12,36,46,51,584]\n",
        "label = [0,1,2,3,4]\n",
        "test['전용면적범주화'] = pd.cut(test['전용면적'],bins,right=False , labels= label)"
      ],
      "execution_count": 352,
      "outputs": []
    },
    {
      "cell_type": "code",
      "metadata": {
        "id": "cBqy0cDD_vN3"
      },
      "source": [
        "# 전용면적 범주가 같은 단지코드의 임대보증금의 중앙값과 임대료의 중앙값을 넣어줌\n",
        "\n",
        "train['임대보증금'].fillna(train.groupby('전용면적범주화')['임대보증금'].transform('median'),inplace=True)\n",
        "train['임대료'].fillna(train.groupby('전용면적범주화')['임대료'].transform('median'),inplace=True)\n",
        "\n",
        "test['임대보증금'].fillna(test.groupby('전용면적범주화')['임대보증금'].transform('median'),inplace=True)\n",
        "test['임대료'].fillna(test.groupby('전용면적범주화')['임대료'].transform('median'),inplace=True)"
      ],
      "execution_count": 353,
      "outputs": []
    },
    {
      "cell_type": "code",
      "metadata": {
        "colab": {
          "base_uri": "https://localhost:8080/"
        },
        "id": "rPCCguKJN8Ch",
        "outputId": "05d0e8b5-bd6f-45c1-c767-148623ae2463"
      },
      "source": [
        "train.isnull().sum()"
      ],
      "execution_count": 354,
      "outputs": [
        {
          "output_type": "execute_result",
          "data": {
            "text/plain": [
              "단지코드                              0\n",
              "총세대수                              0\n",
              "임대건물구분                            0\n",
              "지역                                0\n",
              "공급유형                              0\n",
              "전용면적                              0\n",
              "전용면적별세대수                          0\n",
              "공가수                               0\n",
              "자격유형                              0\n",
              "임대보증금                             0\n",
              "임대료                               0\n",
              "도보 10분거리 내 지하철역 수(환승노선 수 반영)    155\n",
              "도보 10분거리 내 버스정류장 수                4\n",
              "단지내주차면수                           0\n",
              "등록차량수                             0\n",
              "전용면적범주화                           0\n",
              "dtype: int64"
            ]
          },
          "metadata": {},
          "execution_count": 354
        }
      ]
    },
    {
      "cell_type": "code",
      "metadata": {
        "colab": {
          "base_uri": "https://localhost:8080/",
          "height": 112
        },
        "id": "2czsUTAlOIVE",
        "outputId": "dd0198af-1d8c-4e1e-def9-62860d8962c6"
      },
      "source": [
        "test[test.임대보증금.isnull()]\n",
        "# 전용면적범주화의 값이 0이므로 임대료와 보증금을 train 데이터 최소값으로 넣어주기"
      ],
      "execution_count": 355,
      "outputs": [
        {
          "output_type": "execute_result",
          "data": {
            "text/html": [
              "<div>\n",
              "<style scoped>\n",
              "    .dataframe tbody tr th:only-of-type {\n",
              "        vertical-align: middle;\n",
              "    }\n",
              "\n",
              "    .dataframe tbody tr th {\n",
              "        vertical-align: top;\n",
              "    }\n",
              "\n",
              "    .dataframe thead th {\n",
              "        text-align: right;\n",
              "    }\n",
              "</style>\n",
              "<table border=\"1\" class=\"dataframe\">\n",
              "  <thead>\n",
              "    <tr style=\"text-align: right;\">\n",
              "      <th></th>\n",
              "      <th>단지코드</th>\n",
              "      <th>총세대수</th>\n",
              "      <th>임대건물구분</th>\n",
              "      <th>지역</th>\n",
              "      <th>공급유형</th>\n",
              "      <th>전용면적</th>\n",
              "      <th>전용면적별세대수</th>\n",
              "      <th>공가수</th>\n",
              "      <th>자격유형</th>\n",
              "      <th>임대보증금</th>\n",
              "      <th>임대료</th>\n",
              "      <th>도보 10분거리 내 지하철역 수(환승노선 수 반영)</th>\n",
              "      <th>도보 10분거리 내 버스정류장 수</th>\n",
              "      <th>단지내주차면수</th>\n",
              "      <th>전용면적범주화</th>\n",
              "    </tr>\n",
              "  </thead>\n",
              "  <tbody>\n",
              "    <tr>\n",
              "      <th>233</th>\n",
              "      <td>C1812</td>\n",
              "      <td>1021</td>\n",
              "      <td>상가</td>\n",
              "      <td>울산광역시</td>\n",
              "      <td>임대상가</td>\n",
              "      <td>9.96</td>\n",
              "      <td>1</td>\n",
              "      <td>22.0</td>\n",
              "      <td>D</td>\n",
              "      <td>NaN</td>\n",
              "      <td>NaN</td>\n",
              "      <td>0.0</td>\n",
              "      <td>4.0</td>\n",
              "      <td>185.0</td>\n",
              "      <td>0</td>\n",
              "    </tr>\n",
              "  </tbody>\n",
              "</table>\n",
              "</div>"
            ],
            "text/plain": [
              "      단지코드  총세대수 임대건물구분  ... 도보 10분거리 내 버스정류장 수 단지내주차면수  전용면적범주화\n",
              "233  C1812  1021     상가  ...                4.0   185.0        0\n",
              "\n",
              "[1 rows x 15 columns]"
            ]
          },
          "metadata": {},
          "execution_count": 355
        }
      ]
    },
    {
      "cell_type": "code",
      "metadata": {
        "id": "TwDKCLeyOX58"
      },
      "source": [
        "test['임대료'].fillna(train.임대료.min(),inplace=True)\n",
        "test['임대보증금'].fillna(train.임대보증금.min(),inplace=True)"
      ],
      "execution_count": 356,
      "outputs": []
    },
    {
      "cell_type": "markdown",
      "metadata": {
        "id": "bIi8NC8PFKKm"
      },
      "source": [
        "## 도보 10분내 지하철역 수 , 도보 10분거리 내 지하철역 수"
      ]
    },
    {
      "cell_type": "code",
      "metadata": {
        "colab": {
          "base_uri": "https://localhost:8080/"
        },
        "id": "h6S2NlwwEiVy",
        "outputId": "94097cd3-6a99-495e-fc5f-244354acdc50"
      },
      "source": [
        "train['도보 10분거리 내 지하철역 수(환승노선 수 반영)'].value_counts()"
      ],
      "execution_count": 357,
      "outputs": [
        {
          "output_type": "execute_result",
          "data": {
            "text/plain": [
              "0.0    2130\n",
              "1.0     308\n",
              "2.0      33\n",
              "3.0       6\n",
              "Name: 도보 10분거리 내 지하철역 수(환승노선 수 반영), dtype: int64"
            ]
          },
          "metadata": {},
          "execution_count": 357
        }
      ]
    },
    {
      "cell_type": "code",
      "metadata": {
        "id": "vxu-Lr4gG_jt"
      },
      "source": [
        "# 0이 대부분이므로 결측치 최빈값으로 넣어줌\n",
        "train['도보 10분거리 내 지하철역 수(환승노선 수 반영)'] = train['도보 10분거리 내 지하철역 수(환승노선 수 반영)'].fillna(0)\n",
        "train['도보 10분거리 내 버스정류장 수']=train['도보 10분거리 내 버스정류장 수'].fillna(0)\n",
        "\n",
        "test['도보 10분거리 내 지하철역 수(환승노선 수 반영)'] = test['도보 10분거리 내 지하철역 수(환승노선 수 반영)'].fillna(0)\n",
        "test['도보 10분거리 내 버스정류장 수']=test['도보 10분거리 내 버스정류장 수'].fillna(0)"
      ],
      "execution_count": 358,
      "outputs": []
    },
    {
      "cell_type": "code",
      "metadata": {
        "id": "NbumyHeUK_q0"
      },
      "source": [
        "train = train.drop(['전용면적범주화'],axis=1)\n",
        "test = test.drop(['전용면적범주화'],axis=1)"
      ],
      "execution_count": 359,
      "outputs": []
    },
    {
      "cell_type": "code",
      "metadata": {
        "colab": {
          "base_uri": "https://localhost:8080/"
        },
        "id": "-10Ux7_dQ9LO",
        "outputId": "efea4a0b-930b-4ff4-e929-5840c96b7ec3"
      },
      "source": [
        "test.isnull().sum()"
      ],
      "execution_count": 360,
      "outputs": [
        {
          "output_type": "execute_result",
          "data": {
            "text/plain": [
              "단지코드                            0\n",
              "총세대수                            0\n",
              "임대건물구분                          0\n",
              "지역                              0\n",
              "공급유형                            0\n",
              "전용면적                            0\n",
              "전용면적별세대수                        0\n",
              "공가수                             0\n",
              "자격유형                            2\n",
              "임대보증금                           0\n",
              "임대료                             0\n",
              "도보 10분거리 내 지하철역 수(환승노선 수 반영)    0\n",
              "도보 10분거리 내 버스정류장 수              0\n",
              "단지내주차면수                         0\n",
              "dtype: int64"
            ]
          },
          "metadata": {},
          "execution_count": 360
        }
      ]
    },
    {
      "cell_type": "code",
      "metadata": {
        "colab": {
          "base_uri": "https://localhost:8080/",
          "height": 160
        },
        "id": "MCw6cGXQRQAG",
        "outputId": "e6291fd0-8b3e-43fe-cfb3-e540bf00d71f"
      },
      "source": [
        "test[test.자격유형.isnull()]"
      ],
      "execution_count": 361,
      "outputs": [
        {
          "output_type": "execute_result",
          "data": {
            "text/html": [
              "<div>\n",
              "<style scoped>\n",
              "    .dataframe tbody tr th:only-of-type {\n",
              "        vertical-align: middle;\n",
              "    }\n",
              "\n",
              "    .dataframe tbody tr th {\n",
              "        vertical-align: top;\n",
              "    }\n",
              "\n",
              "    .dataframe thead th {\n",
              "        text-align: right;\n",
              "    }\n",
              "</style>\n",
              "<table border=\"1\" class=\"dataframe\">\n",
              "  <thead>\n",
              "    <tr style=\"text-align: right;\">\n",
              "      <th></th>\n",
              "      <th>단지코드</th>\n",
              "      <th>총세대수</th>\n",
              "      <th>임대건물구분</th>\n",
              "      <th>지역</th>\n",
              "      <th>공급유형</th>\n",
              "      <th>전용면적</th>\n",
              "      <th>전용면적별세대수</th>\n",
              "      <th>공가수</th>\n",
              "      <th>자격유형</th>\n",
              "      <th>임대보증금</th>\n",
              "      <th>임대료</th>\n",
              "      <th>도보 10분거리 내 지하철역 수(환승노선 수 반영)</th>\n",
              "      <th>도보 10분거리 내 버스정류장 수</th>\n",
              "      <th>단지내주차면수</th>\n",
              "    </tr>\n",
              "  </thead>\n",
              "  <tbody>\n",
              "    <tr>\n",
              "      <th>196</th>\n",
              "      <td>C2411</td>\n",
              "      <td>962</td>\n",
              "      <td>아파트</td>\n",
              "      <td>경상남도</td>\n",
              "      <td>국민임대</td>\n",
              "      <td>46.90</td>\n",
              "      <td>240</td>\n",
              "      <td>25.0</td>\n",
              "      <td>NaN</td>\n",
              "      <td>71950000.0</td>\n",
              "      <td>37470.0</td>\n",
              "      <td>0.0</td>\n",
              "      <td>2.0</td>\n",
              "      <td>840.0</td>\n",
              "    </tr>\n",
              "    <tr>\n",
              "      <th>258</th>\n",
              "      <td>C2253</td>\n",
              "      <td>1161</td>\n",
              "      <td>아파트</td>\n",
              "      <td>강원도</td>\n",
              "      <td>영구임대</td>\n",
              "      <td>26.37</td>\n",
              "      <td>745</td>\n",
              "      <td>0.0</td>\n",
              "      <td>NaN</td>\n",
              "      <td>2249000.0</td>\n",
              "      <td>44770.0</td>\n",
              "      <td>0.0</td>\n",
              "      <td>2.0</td>\n",
              "      <td>173.0</td>\n",
              "    </tr>\n",
              "  </tbody>\n",
              "</table>\n",
              "</div>"
            ],
            "text/plain": [
              "      단지코드  총세대수  ... 도보 10분거리 내 버스정류장 수 단지내주차면수\n",
              "196  C2411   962  ...                2.0   840.0\n",
              "258  C2253  1161  ...                2.0   173.0\n",
              "\n",
              "[2 rows x 14 columns]"
            ]
          },
          "metadata": {},
          "execution_count": 361
        }
      ]
    },
    {
      "cell_type": "code",
      "metadata": {
        "colab": {
          "base_uri": "https://localhost:8080/",
          "height": 302
        },
        "id": "wfiq_ngwU5rV",
        "outputId": "b923bf01-84ee-4bc1-b2d5-43b7963999a8"
      },
      "source": [
        "test.loc[test['단지코드']=='C2411']"
      ],
      "execution_count": 362,
      "outputs": [
        {
          "output_type": "execute_result",
          "data": {
            "text/html": [
              "<div>\n",
              "<style scoped>\n",
              "    .dataframe tbody tr th:only-of-type {\n",
              "        vertical-align: middle;\n",
              "    }\n",
              "\n",
              "    .dataframe tbody tr th {\n",
              "        vertical-align: top;\n",
              "    }\n",
              "\n",
              "    .dataframe thead th {\n",
              "        text-align: right;\n",
              "    }\n",
              "</style>\n",
              "<table border=\"1\" class=\"dataframe\">\n",
              "  <thead>\n",
              "    <tr style=\"text-align: right;\">\n",
              "      <th></th>\n",
              "      <th>단지코드</th>\n",
              "      <th>총세대수</th>\n",
              "      <th>임대건물구분</th>\n",
              "      <th>지역</th>\n",
              "      <th>공급유형</th>\n",
              "      <th>전용면적</th>\n",
              "      <th>전용면적별세대수</th>\n",
              "      <th>공가수</th>\n",
              "      <th>자격유형</th>\n",
              "      <th>임대보증금</th>\n",
              "      <th>임대료</th>\n",
              "      <th>도보 10분거리 내 지하철역 수(환승노선 수 반영)</th>\n",
              "      <th>도보 10분거리 내 버스정류장 수</th>\n",
              "      <th>단지내주차면수</th>\n",
              "    </tr>\n",
              "  </thead>\n",
              "  <tbody>\n",
              "    <tr>\n",
              "      <th>193</th>\n",
              "      <td>C2411</td>\n",
              "      <td>962</td>\n",
              "      <td>아파트</td>\n",
              "      <td>경상남도</td>\n",
              "      <td>국민임대</td>\n",
              "      <td>39.43</td>\n",
              "      <td>56</td>\n",
              "      <td>25.0</td>\n",
              "      <td>A</td>\n",
              "      <td>11992000.0</td>\n",
              "      <td>100720.0</td>\n",
              "      <td>0.0</td>\n",
              "      <td>2.0</td>\n",
              "      <td>840.0</td>\n",
              "    </tr>\n",
              "    <tr>\n",
              "      <th>194</th>\n",
              "      <td>C2411</td>\n",
              "      <td>962</td>\n",
              "      <td>아파트</td>\n",
              "      <td>경상남도</td>\n",
              "      <td>국민임대</td>\n",
              "      <td>39.72</td>\n",
              "      <td>336</td>\n",
              "      <td>25.0</td>\n",
              "      <td>A</td>\n",
              "      <td>11992000.0</td>\n",
              "      <td>100720.0</td>\n",
              "      <td>0.0</td>\n",
              "      <td>2.0</td>\n",
              "      <td>840.0</td>\n",
              "    </tr>\n",
              "    <tr>\n",
              "      <th>195</th>\n",
              "      <td>C2411</td>\n",
              "      <td>962</td>\n",
              "      <td>아파트</td>\n",
              "      <td>경상남도</td>\n",
              "      <td>국민임대</td>\n",
              "      <td>39.82</td>\n",
              "      <td>179</td>\n",
              "      <td>25.0</td>\n",
              "      <td>A</td>\n",
              "      <td>11992000.0</td>\n",
              "      <td>100720.0</td>\n",
              "      <td>0.0</td>\n",
              "      <td>2.0</td>\n",
              "      <td>840.0</td>\n",
              "    </tr>\n",
              "    <tr>\n",
              "      <th>196</th>\n",
              "      <td>C2411</td>\n",
              "      <td>962</td>\n",
              "      <td>아파트</td>\n",
              "      <td>경상남도</td>\n",
              "      <td>국민임대</td>\n",
              "      <td>46.90</td>\n",
              "      <td>240</td>\n",
              "      <td>25.0</td>\n",
              "      <td>NaN</td>\n",
              "      <td>71950000.0</td>\n",
              "      <td>37470.0</td>\n",
              "      <td>0.0</td>\n",
              "      <td>2.0</td>\n",
              "      <td>840.0</td>\n",
              "    </tr>\n",
              "    <tr>\n",
              "      <th>197</th>\n",
              "      <td>C2411</td>\n",
              "      <td>962</td>\n",
              "      <td>아파트</td>\n",
              "      <td>경상남도</td>\n",
              "      <td>국민임대</td>\n",
              "      <td>51.93</td>\n",
              "      <td>150</td>\n",
              "      <td>25.0</td>\n",
              "      <td>A</td>\n",
              "      <td>21586000.0</td>\n",
              "      <td>171480.0</td>\n",
              "      <td>0.0</td>\n",
              "      <td>2.0</td>\n",
              "      <td>840.0</td>\n",
              "    </tr>\n",
              "  </tbody>\n",
              "</table>\n",
              "</div>"
            ],
            "text/plain": [
              "      단지코드  총세대수  ... 도보 10분거리 내 버스정류장 수 단지내주차면수\n",
              "193  C2411   962  ...                2.0   840.0\n",
              "194  C2411   962  ...                2.0   840.0\n",
              "195  C2411   962  ...                2.0   840.0\n",
              "196  C2411   962  ...                2.0   840.0\n",
              "197  C2411   962  ...                2.0   840.0\n",
              "\n",
              "[5 rows x 14 columns]"
            ]
          },
          "metadata": {},
          "execution_count": 362
        }
      ]
    },
    {
      "cell_type": "code",
      "metadata": {
        "colab": {
          "base_uri": "https://localhost:8080/",
          "height": 302
        },
        "id": "ZMfvJ7pYU9Dt",
        "outputId": "057cddef-d165-4b4b-ac4a-c8051bf75f77"
      },
      "source": [
        "test.loc[test['단지코드']=='C2253'].head()"
      ],
      "execution_count": 363,
      "outputs": [
        {
          "output_type": "execute_result",
          "data": {
            "text/html": [
              "<div>\n",
              "<style scoped>\n",
              "    .dataframe tbody tr th:only-of-type {\n",
              "        vertical-align: middle;\n",
              "    }\n",
              "\n",
              "    .dataframe tbody tr th {\n",
              "        vertical-align: top;\n",
              "    }\n",
              "\n",
              "    .dataframe thead th {\n",
              "        text-align: right;\n",
              "    }\n",
              "</style>\n",
              "<table border=\"1\" class=\"dataframe\">\n",
              "  <thead>\n",
              "    <tr style=\"text-align: right;\">\n",
              "      <th></th>\n",
              "      <th>단지코드</th>\n",
              "      <th>총세대수</th>\n",
              "      <th>임대건물구분</th>\n",
              "      <th>지역</th>\n",
              "      <th>공급유형</th>\n",
              "      <th>전용면적</th>\n",
              "      <th>전용면적별세대수</th>\n",
              "      <th>공가수</th>\n",
              "      <th>자격유형</th>\n",
              "      <th>임대보증금</th>\n",
              "      <th>임대료</th>\n",
              "      <th>도보 10분거리 내 지하철역 수(환승노선 수 반영)</th>\n",
              "      <th>도보 10분거리 내 버스정류장 수</th>\n",
              "      <th>단지내주차면수</th>\n",
              "    </tr>\n",
              "  </thead>\n",
              "  <tbody>\n",
              "    <tr>\n",
              "      <th>258</th>\n",
              "      <td>C2253</td>\n",
              "      <td>1161</td>\n",
              "      <td>아파트</td>\n",
              "      <td>강원도</td>\n",
              "      <td>영구임대</td>\n",
              "      <td>26.37</td>\n",
              "      <td>745</td>\n",
              "      <td>0.0</td>\n",
              "      <td>NaN</td>\n",
              "      <td>2249000.0</td>\n",
              "      <td>44770.0</td>\n",
              "      <td>0.0</td>\n",
              "      <td>2.0</td>\n",
              "      <td>173.0</td>\n",
              "    </tr>\n",
              "    <tr>\n",
              "      <th>259</th>\n",
              "      <td>C2253</td>\n",
              "      <td>1161</td>\n",
              "      <td>아파트</td>\n",
              "      <td>강원도</td>\n",
              "      <td>영구임대</td>\n",
              "      <td>31.32</td>\n",
              "      <td>239</td>\n",
              "      <td>0.0</td>\n",
              "      <td>C</td>\n",
              "      <td>3731000.0</td>\n",
              "      <td>83020.0</td>\n",
              "      <td>0.0</td>\n",
              "      <td>2.0</td>\n",
              "      <td>173.0</td>\n",
              "    </tr>\n",
              "    <tr>\n",
              "      <th>260</th>\n",
              "      <td>C2253</td>\n",
              "      <td>1161</td>\n",
              "      <td>아파트</td>\n",
              "      <td>강원도</td>\n",
              "      <td>영구임대</td>\n",
              "      <td>31.32</td>\n",
              "      <td>149</td>\n",
              "      <td>0.0</td>\n",
              "      <td>C</td>\n",
              "      <td>3731000.0</td>\n",
              "      <td>83020.0</td>\n",
              "      <td>0.0</td>\n",
              "      <td>2.0</td>\n",
              "      <td>173.0</td>\n",
              "    </tr>\n",
              "    <tr>\n",
              "      <th>261</th>\n",
              "      <td>C2253</td>\n",
              "      <td>1161</td>\n",
              "      <td>상가</td>\n",
              "      <td>강원도</td>\n",
              "      <td>임대상가</td>\n",
              "      <td>13.77</td>\n",
              "      <td>1</td>\n",
              "      <td>0.0</td>\n",
              "      <td>D</td>\n",
              "      <td>12480000.0</td>\n",
              "      <td>97540.0</td>\n",
              "      <td>0.0</td>\n",
              "      <td>2.0</td>\n",
              "      <td>173.0</td>\n",
              "    </tr>\n",
              "    <tr>\n",
              "      <th>262</th>\n",
              "      <td>C2253</td>\n",
              "      <td>1161</td>\n",
              "      <td>상가</td>\n",
              "      <td>강원도</td>\n",
              "      <td>임대상가</td>\n",
              "      <td>22.89</td>\n",
              "      <td>1</td>\n",
              "      <td>0.0</td>\n",
              "      <td>D</td>\n",
              "      <td>12480000.0</td>\n",
              "      <td>97540.0</td>\n",
              "      <td>0.0</td>\n",
              "      <td>2.0</td>\n",
              "      <td>173.0</td>\n",
              "    </tr>\n",
              "  </tbody>\n",
              "</table>\n",
              "</div>"
            ],
            "text/plain": [
              "      단지코드  총세대수  ... 도보 10분거리 내 버스정류장 수 단지내주차면수\n",
              "258  C2253  1161  ...                2.0   173.0\n",
              "259  C2253  1161  ...                2.0   173.0\n",
              "260  C2253  1161  ...                2.0   173.0\n",
              "261  C2253  1161  ...                2.0   173.0\n",
              "262  C2253  1161  ...                2.0   173.0\n",
              "\n",
              "[5 rows x 14 columns]"
            ]
          },
          "metadata": {},
          "execution_count": 363
        }
      ]
    },
    {
      "cell_type": "code",
      "metadata": {
        "colab": {
          "base_uri": "https://localhost:8080/"
        },
        "id": "pkcJswxHSpLv",
        "outputId": "4af17c77-1741-4ef1-e3bd-324b5b6c1e00"
      },
      "source": [
        "# train 데이터로 확인해보기\n",
        "train[(train.임대건물구분 == '아파트') & (train.공급유형 == '영구임대') & (train.전용면적 <30) & (train.전용면적별세대수 >700) ].자격유형.value_counts()"
      ],
      "execution_count": 364,
      "outputs": [
        {
          "output_type": "execute_result",
          "data": {
            "text/plain": [
              "C    5\n",
              "F    1\n",
              "Name: 자격유형, dtype: int64"
            ]
          },
          "metadata": {},
          "execution_count": 364
        }
      ]
    },
    {
      "cell_type": "code",
      "metadata": {
        "id": "PrKCp9vDThqX"
      },
      "source": [
        "test.loc[test['단지코드']=='C2411', '자격유형'] = 'A'\n",
        "test.loc[test['단지코드']=='C2253\t', '자격유형'] = 'C'"
      ],
      "execution_count": 365,
      "outputs": []
    },
    {
      "cell_type": "markdown",
      "metadata": {
        "id": "d0Cvhh8wFlbG"
      },
      "source": [
        "# EDA"
      ]
    },
    {
      "cell_type": "code",
      "metadata": {
        "colab": {
          "base_uri": "https://localhost:8080/"
        },
        "id": "QJKb8ypGGrm9",
        "outputId": "f1bde2d8-e7bc-4d2e-9584-f6170a45279b"
      },
      "source": [
        "train.columns"
      ],
      "execution_count": 366,
      "outputs": [
        {
          "output_type": "execute_result",
          "data": {
            "text/plain": [
              "Index(['단지코드', '총세대수', '임대건물구분', '지역', '공급유형', '전용면적', '전용면적별세대수', '공가수',\n",
              "       '자격유형', '임대보증금', '임대료', '도보 10분거리 내 지하철역 수(환승노선 수 반영)',\n",
              "       '도보 10분거리 내 버스정류장 수', '단지내주차면수', '등록차량수'],\n",
              "      dtype='object')"
            ]
          },
          "metadata": {},
          "execution_count": 366
        }
      ]
    },
    {
      "cell_type": "code",
      "metadata": {
        "colab": {
          "base_uri": "https://localhost:8080/"
        },
        "id": "EOrTLKFrHv4b",
        "outputId": "e17a0678-2c60-4904-b56a-70f956ec68f1"
      },
      "source": [
        "len(train['단지코드'].unique())"
      ],
      "execution_count": 367,
      "outputs": [
        {
          "output_type": "execute_result",
          "data": {
            "text/plain": [
              "423"
            ]
          },
          "metadata": {},
          "execution_count": 367
        }
      ]
    },
    {
      "cell_type": "code",
      "metadata": {
        "colab": {
          "base_uri": "https://localhost:8080/"
        },
        "id": "ZKlBEm25IWfa",
        "outputId": "8ee0de71-d5b6-463e-9e61-2af7483d6f63"
      },
      "source": [
        "len(train)"
      ],
      "execution_count": 368,
      "outputs": [
        {
          "output_type": "execute_result",
          "data": {
            "text/plain": [
              "2632"
            ]
          },
          "metadata": {},
          "execution_count": 368
        }
      ]
    },
    {
      "cell_type": "code",
      "metadata": {
        "colab": {
          "base_uri": "https://localhost:8080/"
        },
        "id": "CUM2RVdkFpbv",
        "outputId": "a1c6a191-269e-45bc-8322-ccad104c5a49"
      },
      "source": [
        "new = pd.DataFrame(train.groupby(['단지코드', '총세대수', '임대건물구분', '지역', '공급유형', '공가수',\n",
        "       '자격유형', '도보 10분거리 내 지하철역 수(환승노선 수 반영)',\n",
        "       '도보 10분거리 내 버스정류장 수', '단지내주차면수','등록차량수'])['임대보증금','임대료','전용면적별세대수','전용면적'].mean())"
      ],
      "execution_count": 369,
      "outputs": [
        {
          "output_type": "stream",
          "name": "stderr",
          "text": [
            "/usr/local/lib/python3.7/dist-packages/ipykernel_launcher.py:3: FutureWarning: Indexing with multiple keys (implicitly converted to a tuple of keys) will be deprecated, use a list instead.\n",
            "  This is separate from the ipykernel package so we can avoid doing imports until\n"
          ]
        }
      ]
    },
    {
      "cell_type": "code",
      "metadata": {
        "colab": {
          "base_uri": "https://localhost:8080/",
          "height": 349
        },
        "id": "qH_2-cCVJGG1",
        "outputId": "85361150-0229-4361-8277-e0728ad5e3ec"
      },
      "source": [
        "round(new.head(),0)\n",
        "# 단지코드 내의 건물들은 임대보증금, 임대료, 전용면적별세대수, 전용면적 특성외에는 큰 차이가 없는 것으로 보인다 => 등록챠랑수도 이를 기반으로 구할 수 있을 것으로 보임 "
      ],
      "execution_count": 370,
      "outputs": [
        {
          "output_type": "execute_result",
          "data": {
            "text/html": [
              "<div>\n",
              "<style scoped>\n",
              "    .dataframe tbody tr th:only-of-type {\n",
              "        vertical-align: middle;\n",
              "    }\n",
              "\n",
              "    .dataframe tbody tr th {\n",
              "        vertical-align: top;\n",
              "    }\n",
              "\n",
              "    .dataframe thead th {\n",
              "        text-align: right;\n",
              "    }\n",
              "</style>\n",
              "<table border=\"1\" class=\"dataframe\">\n",
              "  <thead>\n",
              "    <tr style=\"text-align: right;\">\n",
              "      <th></th>\n",
              "      <th></th>\n",
              "      <th></th>\n",
              "      <th></th>\n",
              "      <th></th>\n",
              "      <th></th>\n",
              "      <th></th>\n",
              "      <th></th>\n",
              "      <th></th>\n",
              "      <th></th>\n",
              "      <th></th>\n",
              "      <th>임대보증금</th>\n",
              "      <th>임대료</th>\n",
              "      <th>전용면적별세대수</th>\n",
              "      <th>전용면적</th>\n",
              "    </tr>\n",
              "    <tr>\n",
              "      <th>단지코드</th>\n",
              "      <th>총세대수</th>\n",
              "      <th>임대건물구분</th>\n",
              "      <th>지역</th>\n",
              "      <th>공급유형</th>\n",
              "      <th>공가수</th>\n",
              "      <th>자격유형</th>\n",
              "      <th>도보 10분거리 내 지하철역 수(환승노선 수 반영)</th>\n",
              "      <th>도보 10분거리 내 버스정류장 수</th>\n",
              "      <th>단지내주차면수</th>\n",
              "      <th>등록차량수</th>\n",
              "      <th></th>\n",
              "      <th></th>\n",
              "      <th></th>\n",
              "      <th></th>\n",
              "    </tr>\n",
              "  </thead>\n",
              "  <tbody>\n",
              "    <tr>\n",
              "      <th>C1000</th>\n",
              "      <th>566</th>\n",
              "      <th>아파트</th>\n",
              "      <th>충청북도</th>\n",
              "      <th>국민임대</th>\n",
              "      <th>10.0</th>\n",
              "      <th>A</th>\n",
              "      <th>0.0</th>\n",
              "      <th>1.0</th>\n",
              "      <th>438.0</th>\n",
              "      <th>481.0</th>\n",
              "      <td>13203571.0</td>\n",
              "      <td>121064.0</td>\n",
              "      <td>81.0</td>\n",
              "      <td>45.0</td>\n",
              "    </tr>\n",
              "    <tr>\n",
              "      <th rowspan=\"2\" valign=\"top\">C1004</th>\n",
              "      <th rowspan=\"2\" valign=\"top\">521</th>\n",
              "      <th>상가</th>\n",
              "      <th>충청남도</th>\n",
              "      <th>임대상가</th>\n",
              "      <th>3.0</th>\n",
              "      <th>D</th>\n",
              "      <th>0.0</th>\n",
              "      <th>2.0</th>\n",
              "      <th>153.0</th>\n",
              "      <th>93.0</th>\n",
              "      <td>14634538.0</td>\n",
              "      <td>124668.0</td>\n",
              "      <td>1.0</td>\n",
              "      <td>44.0</td>\n",
              "    </tr>\n",
              "    <tr>\n",
              "      <th>아파트</th>\n",
              "      <th>충청남도</th>\n",
              "      <th>영구임대</th>\n",
              "      <th>3.0</th>\n",
              "      <th>C</th>\n",
              "      <th>0.0</th>\n",
              "      <th>2.0</th>\n",
              "      <th>153.0</th>\n",
              "      <th>93.0</th>\n",
              "      <td>4705000.0</td>\n",
              "      <td>104695.0</td>\n",
              "      <td>252.0</td>\n",
              "      <td>39.0</td>\n",
              "    </tr>\n",
              "    <tr>\n",
              "      <th>C1005</th>\n",
              "      <th>1144</th>\n",
              "      <th>아파트</th>\n",
              "      <th>충청남도</th>\n",
              "      <th>국민임대</th>\n",
              "      <th>16.0</th>\n",
              "      <th>A</th>\n",
              "      <th>0.0</th>\n",
              "      <th>8.0</th>\n",
              "      <th>950.0</th>\n",
              "      <th>376.0</th>\n",
              "      <td>17107667.0</td>\n",
              "      <td>222047.0</td>\n",
              "      <td>381.0</td>\n",
              "      <td>54.0</td>\n",
              "    </tr>\n",
              "    <tr>\n",
              "      <th>C1013</th>\n",
              "      <th>1308</th>\n",
              "      <th>아파트</th>\n",
              "      <th>광주광역시</th>\n",
              "      <th>국민임대</th>\n",
              "      <th>16.0</th>\n",
              "      <th>A</th>\n",
              "      <th>0.0</th>\n",
              "      <th>6.0</th>\n",
              "      <th>1119.0</th>\n",
              "      <th>1665.0</th>\n",
              "      <td>24924800.0</td>\n",
              "      <td>134726.0</td>\n",
              "      <td>262.0</td>\n",
              "      <td>46.0</td>\n",
              "    </tr>\n",
              "  </tbody>\n",
              "</table>\n",
              "</div>"
            ],
            "text/plain": [
              "                                                                                                            임대보증금  ...  전용면적\n",
              "단지코드  총세대수 임대건물구분 지역    공급유형 공가수  자격유형 도보 10분거리 내 지하철역 수(환승노선 수 반영) 도보 10분거리 내 버스정류장 수 단지내주차면수 등록차량수               ...      \n",
              "C1000 566  아파트    충청북도  국민임대 10.0 A    0.0                          1.0                438.0   481.0   13203571.0  ...  45.0\n",
              "C1004 521  상가     충청남도  임대상가 3.0  D    0.0                          2.0                153.0   93.0    14634538.0  ...  44.0\n",
              "           아파트    충청남도  영구임대 3.0  C    0.0                          2.0                153.0   93.0     4705000.0  ...  39.0\n",
              "C1005 1144 아파트    충청남도  국민임대 16.0 A    0.0                          8.0                950.0   376.0   17107667.0  ...  54.0\n",
              "C1013 1308 아파트    광주광역시 국민임대 16.0 A    0.0                          6.0                1119.0  1665.0  24924800.0  ...  46.0\n",
              "\n",
              "[5 rows x 4 columns]"
            ]
          },
          "metadata": {},
          "execution_count": 370
        }
      ]
    },
    {
      "cell_type": "markdown",
      "metadata": {
        "id": "GqycCDSqK6oJ"
      },
      "source": [
        "# 타겟값 분리 "
      ]
    },
    {
      "cell_type": "code",
      "metadata": {
        "id": "znhgrCYHK9ws"
      },
      "source": [
        "target = train['등록차량수']\n",
        "train = train.drop(['등록차량수'],axis=1)"
      ],
      "execution_count": 371,
      "outputs": []
    },
    {
      "cell_type": "code",
      "metadata": {
        "colab": {
          "base_uri": "https://localhost:8080/",
          "height": 278
        },
        "id": "RPC6EHJfPrky",
        "outputId": "52abf9ca-1fde-4a58-b5d2-180c92b62a61"
      },
      "source": [
        "# 타겟값 분포 \n",
        "sns.kdeplot(target);\n",
        "plt.show();"
      ],
      "execution_count": 372,
      "outputs": [
        {
          "output_type": "display_data",
          "data": {
            "image/png": "[encoded data removed]",
            "text/plain": [
              "<Figure size 432x288 with 1 Axes>"
            ]
          },
          "metadata": {
            "needs_background": "light"
          }
        }
      ]
    },
    {
      "cell_type": "markdown",
      "metadata": {
        "id": "CznblvVFLMZB"
      },
      "source": [
        "### 범주형 변수 원핫인코딩&라벨인코딩\n",
        "\n"
      ]
    },
    {
      "cell_type": "code",
      "metadata": {
        "id": "cCye2HkpOfs9"
      },
      "source": [
        "from category_encoders import OneHotEncoder\n",
        "\n",
        "onehot = OneHotEncoder(cols=['임대건물구분','공급유형','자격유형'])\n",
        "train = onehot.fit_transform(train)\n",
        "test = onehot.transform(test)"
      ],
      "execution_count": 373,
      "outputs": []
    },
    {
      "cell_type": "code",
      "metadata": {
        "id": "1fNQrC1XW3Jl"
      },
      "source": [
        "# 범주가 커서 단지코드와 지역은 라벨인코딩\n",
        "\n",
        "from category_encoders import OrdinalEncoder\n",
        "ordinal = OrdinalEncoder(cols=['단지코드','지역'])\n",
        "train = ordinal.fit_transform(train)\n",
        "test = ordinal.fit_transform(test)"
      ],
      "execution_count": 374,
      "outputs": []
    },
    {
      "cell_type": "markdown",
      "metadata": {
        "id": "jdjJhK8YNDLZ"
      },
      "source": [
        "### 다른 인코딩방법"
      ]
    },
    {
      "cell_type": "code",
      "metadata": {
        "id": "esJ6DflBM_Ef"
      },
      "source": [
        "# LeaveOneOutEncoder 사용\n",
        "# from category_encoders import LeaveOneOutEncoder\n",
        "\n",
        "# catboostencoder\n",
        "# leave =  LeaveOneOutEncoder()\n",
        "# train_X['단지코드'] = leave.fit_transform(train_X['단지코드'],train_y)\n",
        "# test['단지코드'] = leave.transform(test['단지코드'])"
      ],
      "execution_count": 375,
      "outputs": []
    },
    {
      "cell_type": "markdown",
      "metadata": {
        "id": "Umn1o67eLl3x"
      },
      "source": [
        "##이상치탐지"
      ]
    },
    {
      "cell_type": "code",
      "metadata": {
        "colab": {
          "base_uri": "https://localhost:8080/",
          "height": 402
        },
        "id": "e-aN7PJOr9FY",
        "outputId": "d0403c9e-da14-4c79-c2de-2be790f4bd08"
      },
      "source": [
        "import seaborn as sns\n",
        "import matplotlib.pyplot as plt\n",
        "f, ax = plt.subplots(figsize=(15,6))\n",
        "sns.boxplot(data=train,orient='h', ax=ax)\n"
      ],
      "execution_count": 376,
      "outputs": [
        {
          "output_type": "execute_result",
          "data": {
            "text/plain": [
              "<matplotlib.axes._subplots.AxesSubplot at 0x7fe052865ed0>"
            ]
          },
          "metadata": {},
          "execution_count": 376
        },
        {
          "output_type": "display_data",
          "data": {
            "image/png": "[encoded data removed]",
            "text/plain": [
              "<Figure size 1080x432 with 1 Axes>"
            ]
          },
          "metadata": {
            "needs_background": "light"
          }
        }
      ]
    },
    {
      "cell_type": "code",
      "metadata": {
        "id": "X3tVgRliUZs5"
      },
      "source": [
        "import numpy as np\n",
        "\n",
        "def outliers_iqr(data):\n",
        "  q1, q3 = np.percentile(data, [25, 75])\n",
        "  iqr = q3-q1\n",
        "  lower_bound = q1 - (iqr*1.5)\n",
        "  upper_bound = q3 + (iqr * 1.5)\n",
        "  return train[(data>upper_bound)|(data<lower_bound)]"
      ],
      "execution_count": 377,
      "outputs": []
    },
    {
      "cell_type": "code",
      "metadata": {
        "id": "jzhXipUDnnVH"
      },
      "source": [
        "outer = outliers_iqr(train['임대보증금'])\n",
        "train = train.drop(outer.index, axis=0)"
      ],
      "execution_count": 378,
      "outputs": []
    },
    {
      "cell_type": "markdown",
      "metadata": {
        "id": "eD2GcRtib2gB"
      },
      "source": [
        "# StandardScaler : 이상치에 민감하므로 이상치 처리 후 사용"
      ]
    },
    {
      "cell_type": "code",
      "metadata": {
        "colab": {
          "base_uri": "https://localhost:8080/",
          "height": 402
        },
        "id": "gC2ezM1jbtcS",
        "outputId": "09fb208e-3bea-4953-964b-62400431dda9"
      },
      "source": [
        "import seaborn as sns\n",
        "import matplotlib.pyplot as plt\n",
        "f, ax = plt.subplots(figsize=(15,6))\n",
        "sns.boxplot(data=train,orient='h', ax=ax)"
      ],
      "execution_count": 379,
      "outputs": [
        {
          "output_type": "execute_result",
          "data": {
            "text/plain": [
              "<matplotlib.axes._subplots.AxesSubplot at 0x7fe0524c5150>"
            ]
          },
          "metadata": {},
          "execution_count": 379
        },
        {
          "output_type": "display_data",
          "data": {
            "image/png": "[encoded data removed]",
            "text/plain": [
              "<Figure size 1080x432 with 1 Axes>"
            ]
          },
          "metadata": {
            "needs_background": "light"
          }
        }
      ]
    },
    {
      "cell_type": "code",
      "metadata": {
        "id": "hEb5MQg5bkuF"
      },
      "source": [
        "from sklearn.preprocessing import StandardScaler\n",
        "import numpy as np\n",
        "st =  StandardScaler()\n",
        "train.loc[:,'임대보증금':'임대료']=st.fit_transform(train[['임대보증금','임대료']])\n",
        "test.loc[:,'임대보증금':'임대료'] = st.transform(test[['임대보증금','임대료']])"
      ],
      "execution_count": 381,
      "outputs": []
    },
    {
      "cell_type": "code",
      "metadata": {
        "colab": {
          "base_uri": "https://localhost:8080/",
          "height": 391
        },
        "id": "QjhcOPnWe153",
        "outputId": "5440bf62-a5a8-41b2-f172-36a17398b7b1"
      },
      "source": [
        "f, ax = plt.subplots(figsize=(15,6))\n",
        "sns.boxplot(data=train,orient='h', ax=ax)"
      ],
      "execution_count": 383,
      "outputs": [
        {
          "output_type": "execute_result",
          "data": {
            "text/plain": [
              "<matplotlib.axes._subplots.AxesSubplot at 0x7fe0524d2d50>"
            ]
          },
          "metadata": {},
          "execution_count": 383
        },
        {
          "output_type": "display_data",
          "data": {
            "image/png": "[encoded data removed]",
            "text/plain": [
              "<Figure size 1080x432 with 1 Axes>"
            ]
          },
          "metadata": {
            "needs_background": "light"
          }
        }
      ]
    },
    {
      "cell_type": "code",
      "metadata": {
        "id": "lwWk1ov2ypI1"
      },
      "source": [
        "outer = outliers_iqr(train['전용면적별세대수'])\n",
        "train = train.drop(outer.index, axis=0)\n",
        "outer = outliers_iqr(train['전용면적'])\n",
        "train = train.drop(outer.index, axis=0)"
      ],
      "execution_count": 385,
      "outputs": []
    },
    {
      "cell_type": "code",
      "metadata": {
        "colab": {
          "base_uri": "https://localhost:8080/",
          "height": 391
        },
        "id": "iwHGyfAcUHIy",
        "outputId": "d75643ad-3174-4e92-d17e-19c389708c54"
      },
      "source": [
        "f, ax = plt.subplots(figsize=(15,6))\n",
        "sns.boxplot(data=train,orient='h', ax=ax)"
      ],
      "execution_count": 386,
      "outputs": [
        {
          "output_type": "execute_result",
          "data": {
            "text/plain": [
              "<matplotlib.axes._subplots.AxesSubplot at 0x7fe0531b41d0>"
            ]
          },
          "metadata": {},
          "execution_count": 386
        },
        {
          "output_type": "display_data",
          "data": {
            "image/png": "[encoded data removed]",
            "text/plain": [
              "<Figure size 1080x432 with 1 Axes>"
            ]
          },
          "metadata": {
            "needs_background": "light"
          }
        }
      ]
    },
    {
      "cell_type": "code",
      "metadata": {
        "id": "5-zHqqVozR3C"
      },
      "source": [
        "train.loc[:,'단지코드':'총세대수']=st.fit_transform(train[['단지코드','총세대수']])\n",
        "test.loc[:,'단지코드':'총세대수'] = st.transform(test[['단지코드','총세대수']])"
      ],
      "execution_count": 387,
      "outputs": []
    },
    {
      "cell_type": "code",
      "metadata": {
        "id": "tPui0-iAmybT"
      },
      "source": [
        "train= train.drop(outliers_iqr(train['전용면적'])[0], axis=0)"
      ],
      "execution_count": 94,
      "outputs": []
    },
    {
      "cell_type": "code",
      "metadata": {
        "colab": {
          "base_uri": "https://localhost:8080/",
          "height": 402
        },
        "id": "t8fCM-VonHm0",
        "outputId": "32992ec0-6199-455c-eae6-63d5ac24b016"
      },
      "source": [
        "f, ax = plt.subplots(figsize=(15,6))\n",
        "sns.boxplot(data=train,orient='h', ax=ax)"
      ],
      "execution_count": 214,
      "outputs": [
        {
          "output_type": "execute_result",
          "data": {
            "text/plain": [
              "<matplotlib.axes._subplots.AxesSubplot at 0x7f326ad0c990>"
            ]
          },
          "metadata": {},
          "execution_count": 214
        },
        {
          "output_type": "display_data",
          "data": {
            "image/png": "[encoded data removed]",
            "text/plain": [
              "<Figure size 1080x432 with 1 Axes>"
            ]
          },
          "metadata": {
            "needs_background": "light"
          }
        }
      ]
    },
    {
      "cell_type": "code",
      "metadata": {
        "colab": {
          "base_uri": "https://localhost:8080/"
        },
        "id": "Wnu2C-Z4nAAl",
        "outputId": "3cf9b383-031b-4f4e-e2b4-219d5c463e53"
      },
      "source": [
        "len(outliers_iqr(train['임대보증금'])[0])"
      ],
      "execution_count": 97,
      "outputs": [
        {
          "output_type": "execute_result",
          "data": {
            "text/plain": [
              "71"
            ]
          },
          "metadata": {},
          "execution_count": 97
        }
      ]
    },
    {
      "cell_type": "code",
      "metadata": {
        "id": "wAnMCQoOmAgn"
      },
      "source": [
        "outliers_iqr(train['전용면적'])[0]"
      ],
      "execution_count": null,
      "outputs": []
    },
    {
      "cell_type": "markdown",
      "metadata": {
        "id": "SSTBMHUSX5AV"
      },
      "source": [
        "# 베이스 모델 성능"
      ]
    },
    {
      "cell_type": "code",
      "metadata": {
        "colab": {
          "base_uri": "https://localhost:8080/"
        },
        "id": "aPedVkzoYTJQ",
        "outputId": "f43f2ae0-d61b-4b34-f829-ab0f64558558"
      },
      "source": [
        "from sklearn.metrics import mean_absolute_error\n",
        "# 회귀 분석이므로 평균값으로 베이스라인 모델 성능측정 \n",
        "base = target.copy()\n",
        "base.loc[:] = target.mean()\n",
        "mean_absolute_error(target,base)"
      ],
      "execution_count": 194,
      "outputs": [
        {
          "output_type": "execute_result",
          "data": {
            "text/plain": [
              "290.49700967859746"
            ]
          },
          "metadata": {},
          "execution_count": 194
        }
      ]
    },
    {
      "cell_type": "markdown",
      "metadata": {
        "id": "Tx7XTdVvNJTk"
      },
      "source": [
        "## XGBRegressor 모델 생성"
      ]
    },
    {
      "cell_type": "code",
      "metadata": {
        "id": "ZsiY-_GjYG23"
      },
      "source": [
        "# MAE 측정 ( => 에러의 절대값을 취해 에러가 그대로 반영)\n",
        "from xgboost import XGBRegressor\n",
        "from sklearn.model_selection import cross_val_score\n",
        "model = XGBRegressor(max_depth=15,objective='reg:squarederror')"
      ],
      "execution_count": 195,
      "outputs": []
    },
    {
      "cell_type": "markdown",
      "metadata": {
        "id": "YSgz9DIYNg-c"
      },
      "source": [
        "### 파라미터 튜닝 전 CV"
      ]
    },
    {
      "cell_type": "code",
      "metadata": {
        "colab": {
          "base_uri": "https://localhost:8080/"
        },
        "id": "mSM3SW0JNQlU",
        "outputId": "f697065b-6e85-4ccc-b1be-103ded050c75"
      },
      "source": [
        "cross_val_score(model, train,target, cv=10, \n",
        "                         scoring='neg_mean_absolute_error',).mean()"
      ],
      "execution_count": 196,
      "outputs": [
        {
          "output_type": "execute_result",
          "data": {
            "text/plain": [
              "-153.4343606436243"
            ]
          },
          "metadata": {},
          "execution_count": 196
        }
      ]
    },
    {
      "cell_type": "markdown",
      "metadata": {
        "id": "ekSIdSTm9Qnd"
      },
      "source": [
        " # 파라미터 튜닝:RandomizedSearchCV"
      ]
    },
    {
      "cell_type": "code",
      "metadata": {
        "id": "PVyRTqzdQFHw"
      },
      "source": [
        "from sklearn.model_selection import RandomizedSearchCV\n",
        "from scipy.stats import randint, uniform\n",
        "from xgboost import XGBRegressor\n",
        "\n",
        "param_distributions = { \n",
        "    'n_estimators': randint(50, 500),\n",
        "    'learning_rate': [0.001, 0.01, 0.2, 0,3],\n",
        "        'subsample': [0.5, 0.6, 0.8, 1.0],\n",
        "        'colsample_bytree': [0.4,  0.6, 0.7, 1.0],\n",
        "        'colsample_bylevel': [0.4, 0.6,  0.8,  1.0],\n",
        "        'min_child_weight': [0.5, 3.0, 5.0, 10.0],\n",
        "        'gamma': [0, 0.25, 0.5, 1.0],\n",
        "        'reg_lambda': [0.1, 1.0, 5.0, 10.0, 50.0, 100.0],\n",
        "    'max_depth': [5, 10, 15, 20, None]\n",
        "}\n",
        "\n",
        "\n",
        "search = RandomizedSearchCV(\n",
        "    XGBRegressor(random_state=2,objective='reg:squarederror'), \n",
        "    param_distributions=param_distributions, \n",
        "    n_iter=20, \n",
        "    cv=5, \n",
        "   scoring='neg_mean_absolute_error',\n",
        "    verbose=10, \n",
        "    return_train_score=True, \n",
        "    n_jobs=-1, \n",
        "    random_state=2\n",
        ")\n",
        "\n",
        "search.fit(train, target);"
      ],
      "execution_count": null,
      "outputs": []
    },
    {
      "cell_type": "code",
      "metadata": {
        "id": "lJbYpMCp7L3B"
      },
      "source": [
        "import sklearn\n",
        "sklearn.metrics.SCORERS.keys()"
      ],
      "execution_count": null,
      "outputs": []
    },
    {
      "cell_type": "code",
      "metadata": {
        "id": "hlsGiwWt4gCz"
      },
      "source": [
        "from sklearn.model_selection import cross_val_score\n",
        "best_model = search.best_estimator_\n",
        "cross_val_score(best_model, train,target, cv=10, \n",
        "                         scoring='neg_mean_absolute_error').mean()"
      ],
      "execution_count": null,
      "outputs": []
    },
    {
      "cell_type": "code",
      "metadata": {
        "id": "FQajRjHeJwAr"
      },
      "source": [
        ""
      ],
      "execution_count": null,
      "outputs": []
    }
  ]
}